{
 "cells": [
  {
   "cell_type": "markdown",
   "id": "898c0a54-3e72-4b82-b9b0-f3f16dc935e8",
   "metadata": {},
   "source": [
    "# Classification with MNIST dataset\n"
   ]
  },
  {
   "cell_type": "code",
   "execution_count": 1,
   "id": "049d38db-059b-473a-b43f-8b08e3560ce9",
   "metadata": {},
   "outputs": [],
   "source": [
    "import numpy as np\n",
    "import matplotlib.pyplot as plt\n",
    "from tensorflow.keras.datasets import mnist\n",
    "import math"
   ]
  },
  {
   "cell_type": "code",
   "execution_count": 170,
   "id": "06b978a5-9c44-41c6-a195-fa3c376ec976",
   "metadata": {},
   "outputs": [],
   "source": [
    "(x_train, y_train), (x_test, y_test) = mnist.load_data()"
   ]
  },
  {
   "cell_type": "markdown",
   "id": "80fd37e0-7bc3-47ca-a9d7-eeb9069b2952",
   "metadata": {},
   "source": [
    "## Explore dataset"
   ]
  },
  {
   "cell_type": "code",
   "execution_count": 171,
   "id": "b54ba8f3-9716-4e8d-aa7d-74815e6905b2",
   "metadata": {},
   "outputs": [
    {
     "name": "stdout",
     "output_type": "stream",
     "text": [
      "The shape of x_train.shape is: (60000, 28, 28)\n",
      "the shape of x_train.shape is: (60000,)\n",
      "The shape of x_test.shape is: (10000, 28, 28)\n",
      "the shape of y_test.shape is: (10000,)\n"
     ]
    },
    {
     "data": {
      "image/png": "[encoded data removed]",
      "text/plain": [
       "<Figure size 432x288 with 1 Axes>"
      ]
     },
     "metadata": {
      "needs_background": "light"
     },
     "output_type": "display_data"
    },
    {
     "name": "stdout",
     "output_type": "stream",
     "text": [
      "The answer is: 8\n"
     ]
    }
   ],
   "source": [
    "img = x_train[9900]\n",
    "ans = y_train[9900]\n",
    "\n",
    "print(\"The shape of x_train.shape is:\", x_train.shape)\n",
    "print(\"the shape of x_train.shape is:\", y_train.shape)\n",
    "\n",
    "print(\"The shape of x_test.shape is:\", x_test.shape)\n",
    "print(\"the shape of y_test.shape is:\", y_test.shape)\n",
    "\n",
    "plt.imshow(img, cmap='gray')\n",
    "plt.show()\n",
    "print(\"The answer is:\", ans)"
   ]
  },
  {
   "cell_type": "markdown",
   "id": "03e5e605-4703-4c1a-836e-b3a97364a92c",
   "metadata": {},
   "source": [
    "### I want to rearrange each image into a 784 x 1 column vector. Since there are 60000 images, the final output will be a 784 x 60000 matrix"
   ]
  },
  {
   "cell_type": "code",
   "execution_count": 172,
   "id": "da39effd-996a-4af4-9074-72ea594dc326",
   "metadata": {},
   "outputs": [
    {
     "name": "stdout",
     "output_type": "stream",
     "text": [
      "the new shape is for the training set it:  (784, 60000)\n"
     ]
    }
   ],
   "source": [
    "inputs = x_train.reshape((60000, 28*28)).T\n",
    "print(\"the new shape is for the training set it: \" ,inputs.shape)"
   ]
  },
  {
   "cell_type": "markdown",
   "id": "22ab7f82-a93f-4064-a67d-d4db5097b9cd",
   "metadata": {},
   "source": [
    "### The outputs are real numbers. But I want it to be coded into one hot. The final output vectors should be a 10 x 1 vector since there are 60000 training examples it should be a 10 x 60000 vector"
   ]
  },
  {
   "cell_type": "code",
   "execution_count": 173,
   "id": "1c3f586e-7ca9-44c4-8daf-9df5049ee677",
   "metadata": {},
   "outputs": [
    {
     "data": {
      "text/plain": [
       "array([0., 0., 0., 0., 0., 0., 0., 0., 1., 0.])"
      ]
     },
     "execution_count": 173,
     "metadata": {},
     "output_type": "execute_result"
    }
   ],
   "source": [
    "# one-hot encoding\n",
    "\n",
    "\n",
    "def one_hot(Y):\n",
    "    one_hot_Y = np.zeros((Y.size,10))            # This will make a 60 000 by 10 vector\n",
    "    \n",
    "    one_hot_Y[np.arange(Y.size), Y] = 1          #  \n",
    "    one_hot_Y = one_hot_Y\n",
    "    return one_hot_Y\n",
    "\n",
    "\n",
    "one_hot_y = one_hot(y_train)\n",
    "\n",
    "one_hot_y = one_hot_y.T\n",
    "\n",
    "one_hot_y[:,9900]"
   ]
  },
  {
   "cell_type": "code",
   "execution_count": 174,
   "id": "fdf699bb-2687-420d-a9f0-d73f5314cce3",
   "metadata": {},
   "outputs": [
    {
     "data": {
      "text/plain": [
       "(10, 60000)"
      ]
     },
     "execution_count": 174,
     "metadata": {},
     "output_type": "execute_result"
    }
   ],
   "source": [
    "one_hot_y.shape"
   ]
  },
  {
   "cell_type": "markdown",
   "id": "1717f64b-d1a9-4967-aaec-cd59816fe352",
   "metadata": {},
   "source": [
    "## Initializing Weights and Biases\n",
    "\n"
   ]
  },
  {
   "cell_type": "code",
   "execution_count": 175,
   "id": "f9a7279d-7782-4985-9f20-9d5e6ca770ab",
   "metadata": {},
   "outputs": [],
   "source": [
    "def initialize_parameters(layers_dims):\n",
    "    # The input is an array of numbers indicating how many nodes in the layers\n",
    "    \n",
    "    parameters = {}\n",
    "    \n",
    "    for l in range(1,len(layers_dims)):\n",
    "        parameters[\"W\" + str(l)] = np.random.normal(0, 1/math.sqrt(layers_dims[l]), (layers_dims[l],layers_dims[l-1] ))\n",
    "        \n",
    "        \n",
    "        parameters[\"b\" + str(l)] = np.zeros((layers_dims[l],1))\n",
    "    \n",
    "    # This pulls numbers with a normal distribution with a variance of 100^2 and a mean of 0\n",
    "    # Saves the parameters\n",
    "    \n",
    "    return parameters"
   ]
  },
  {
   "cell_type": "markdown",
   "id": "4fabbb87-6c05-44c8-a1d3-0d6d8d6e9789",
   "metadata": {},
   "source": [
    "### Try example of weights and biases\n",
    "\n",
    "In this example: \n",
    "\n",
    "there are 2 hidden layers and an output layer\n",
    "\n",
    "\n",
    "layer 1: 32 neurons\n",
    "layer 2: 32 neurons\n",
    "output : 10 neurons\n",
    "\n",
    "\n"
   ]
  },
  {
   "cell_type": "code",
   "execution_count": 249,
   "id": "7ba086df-c351-417a-ae88-91361dc40791",
   "metadata": {},
   "outputs": [
    {
     "name": "stdout",
     "output_type": "stream",
     "text": [
      "The shape of  W1 is:  (32, 784)\n",
      "The shape of  b1 is:  (32, 1)\n",
      "The shape of  W2 is:  (32, 32)\n",
      "The shape of  b2 is:  (32, 1)\n",
      "The shape of  W3 is:  (10, 32)\n",
      "The shape of  b3 is:  (10, 1)\n"
     ]
    },
    {
     "data": {
      "image/png": "[encoded data removed]",
      "text/plain": [
       "<Figure size 432x288 with 1 Axes>"
      ]
     },
     "metadata": {
      "needs_background": "light"
     },
     "output_type": "display_data"
    },
    {
     "data": {
      "image/png": "[encoded data removed]",
      "text/plain": [
       "<Figure size 432x288 with 1 Axes>"
      ]
     },
     "metadata": {
      "needs_background": "light"
     },
     "output_type": "display_data"
    },
    {
     "data": {
      "image/png": "[encoded data removed]",
      "text/plain": [
       "<Figure size 432x288 with 1 Axes>"
      ]
     },
     "metadata": {
      "needs_background": "light"
     },
     "output_type": "display_data"
    }
   ],
   "source": [
    "layer_dims = [784,32,32,10]\n",
    "parameters = initialize_parameters(layer_dims)\n",
    "\n",
    "# Check if they are right:\n",
    "\n",
    "for item in list(parameters.keys()):\n",
    "    if \"W\" in item:\n",
    "        plt.figure()\n",
    "        plt.suptitle(\"The weights for \" + item)\n",
    "        plt.hist(parameters[item].flatten(), bins=100)\n",
    "    print(\"The shape of \", item, \"is: \", parameters[item].shape )"
   ]
  },
  {
   "cell_type": "markdown",
   "id": "e3f53478-0b18-457c-9d4e-639ee695e110",
   "metadata": {},
   "source": [
    "# Activation functions"
   ]
  },
  {
   "cell_type": "code",
   "execution_count": 250,
   "id": "5eaaa0e2-2561-4927-8734-329e7f8a5d52",
   "metadata": {},
   "outputs": [],
   "source": [
    "def Sigmoid(Z):\n",
    "    Z = np.clip(Z, -500, 500)\n",
    "    output = 1/(1+np.exp(-Z))\n",
    "    return output\n",
    "\n",
    "def Softmax(Z):\n",
    "    m = Z.shape[1]\n",
    "    y = np.exp(Z)\n",
    "    \n",
    "    return (y / y.sum())"
   ]
  },
  {
   "cell_type": "markdown",
   "id": "da9e87f7-52bb-41e4-9c36-38edf218687b",
   "metadata": {},
   "source": [
    "# Forward Propagation"
   ]
  },
  {
   "cell_type": "code",
   "execution_count": 251,
   "id": "e9926c16-f7ad-4565-b433-6ec522957e86",
   "metadata": {},
   "outputs": [],
   "source": [
    "def forward_prop(X,parameters):\n",
    "    \"\"\"\n",
    "    Forward propagation for a neural network architecture like:\n",
    "    INPUT -> SIGMOID -> SIGMOID ... -> SOFTMAX\n",
    "    parameters is a dictionary with W's and b's\n",
    "    X is the input\n",
    "    \"\"\"\n",
    "    caches = []\n",
    "    A = X\n",
    "    L = len(parameters) // 2\n",
    "    \n",
    "    for l in range(1,L):\n",
    "        A_prev = A\n",
    "        \n",
    "        W = parameters[\"W\"+str(l)]\n",
    "        b = parameters[\"b\"+str(l)]\n",
    "        \n",
    "        Z = np.dot(W,A_prev) + b\n",
    "        A = Sigmoid(Z)\n",
    "        \n",
    "        \n",
    "        caches.append((A_prev,W,b,Z))                # The caches is a list of tuples, each tuple has the input to the neural net and the weights and biases and the output of that layer\n",
    "        \n",
    "    A_prev = A\n",
    "    W = parameters['W' + str(L)]\n",
    "    b = parameters['b' + str(L)]\n",
    "    \n",
    "    Z = np.dot(W,A_prev) + b\n",
    "    AL = Softmax(Z)\n",
    "    \n",
    "    \n",
    "    caches.append((A_prev,W,b,Z))\n",
    "    \n",
    "    return AL, caches"
   ]
  },
  {
   "cell_type": "markdown",
   "id": "fab6dff2-454f-4e9d-890a-e3b2e8b619b9",
   "metadata": {},
   "source": [
    "## Let's try with just one example to see if it works:"
   ]
  },
  {
   "cell_type": "code",
   "execution_count": 202,
   "id": "d1bb3577-46ff-4fd4-b85c-8e6c8cd378d8",
   "metadata": {},
   "outputs": [],
   "source": [
    "X = inputs[:,9].reshape((784, 1))\n",
    "\n",
    "output, caches = forward_prop(X,parameters)"
   ]
  },
  {
   "cell_type": "code",
   "execution_count": 253,
   "id": "cfb7b38c-0818-475a-87d9-701c8d89e507",
   "metadata": {},
   "outputs": [
    {
     "name": "stdout",
     "output_type": "stream",
     "text": [
      "[[0.29984781]\n",
      " [0.04616767]\n",
      " [0.08329157]\n",
      " [0.01732785]\n",
      " [0.12968786]\n",
      " [0.02442668]\n",
      " [0.15752178]\n",
      " [0.16047187]\n",
      " [0.01589902]\n",
      " [0.06535788]]\n",
      "3\n"
     ]
    }
   ],
   "source": [
    "print(output)\n",
    "print(len(caches))"
   ]
  },
  {
   "cell_type": "markdown",
   "id": "b18229d2-f86c-4652-b731-f5af2481067e",
   "metadata": {},
   "source": [
    "# Cost Function:"
   ]
  },
  {
   "cell_type": "code",
   "execution_count": 222,
   "id": "8d8cc7c2-ac65-41e9-b537-a2f3b84e0773",
   "metadata": {},
   "outputs": [],
   "source": [
    "def cross_entropy_loss(y, yHat):\n",
    "    m = y.shape[1]\n",
    "    return -np.sum(np.multiply(y , np.log(yHat)))/m   # exapling why we use this function"
   ]
  },
  {
   "cell_type": "markdown",
   "id": "a52268f0-4bb2-48d7-8134-e65c29c90a53",
   "metadata": {},
   "source": [
    "## Let's find the error for the example we did before"
   ]
  },
  {
   "cell_type": "code",
   "execution_count": 223,
   "id": "e9875a27-78c7-40be-99ca-13888e0fd0c8",
   "metadata": {},
   "outputs": [
    {
     "data": {
      "text/plain": [
       "2.7278772075354762"
      ]
     },
     "execution_count": 223,
     "metadata": {},
     "output_type": "execute_result"
    }
   ],
   "source": [
    "cross_entropy_loss(one_hot_y[:,9].reshape(10,1),output)"
   ]
  },
  {
   "cell_type": "markdown",
   "id": "e85b96cf-2990-4680-b595-03f208ca8375",
   "metadata": {},
   "source": [
    "### error is high"
   ]
  },
  {
   "cell_type": "markdown",
   "id": "bc2bb74c-82d4-4830-bcfb-fe7f48c1abc1",
   "metadata": {},
   "source": [
    "# Backpropagation: Derivatives"
   ]
  },
  {
   "cell_type": "code",
   "execution_count": 224,
   "id": "77eb4514-9618-4e57-b43a-c8e85d50d4fe",
   "metadata": {},
   "outputs": [],
   "source": [
    "def dsigmoid(x): # Derivative of sigmoid\n",
    "    return Sigmoid(x) * (1 - Sigmoid(x))\n"
   ]
  },
  {
   "cell_type": "markdown",
   "id": "59058b31-3324-4f4e-9ed5-ac77f242ef77",
   "metadata": {},
   "source": [
    "# Backpropagation"
   ]
  },
  {
   "cell_type": "code",
   "execution_count": 261,
   "id": "dd2a530b-ce48-4551-8375-24f4c4b4cd67",
   "metadata": {},
   "outputs": [],
   "source": [
    "def back_prop(AL, Y, caches):\n",
    "    \"\"\"\n",
    "    Backward propagation for a neural network architecture like:\n",
    "    INPUT -> SIGMOID -> SIGMOID ... -> SOFTMAX\n",
    "    caches is a list of tuples (A_prev, W, b, Z)\n",
    "    AL is the output of the last layer (SOFTMAX)\n",
    "    Y is the true labels\n",
    "    \"\"\"\n",
    "    \n",
    "    grads = {}\n",
    "    L = len(caches)\n",
    "    m = AL.shape[1]\n",
    "     \n",
    "    A_prev, W, b, Z = caches[L-1]\n",
    "    \n",
    "    \n",
    "    # Last layer gradients\n",
    "    dWL = np.dot((AL - Y), A_prev.T) /m       # this is the derivative of softmax and the cross entropy loss function (explain later)\n",
    "    dbL = np.sum((AL - Y), axis=1, keepdims=True)/m\n",
    "    dA_prev = np.dot(W.T,(AL - Y))\n",
    "    \n",
    "    grads[\"dW\" + str(L)] = dWL\n",
    "    grads[\"db\" + str(L)] = dbL\n",
    "    grads[\"dA\" + str(L-1)]= dA_prev\n",
    "    \n",
    "    for l in reversed(range(L-1)):\n",
    "        A_prev, W, b, Z = caches[l]\n",
    "        dZ = dA_prev * dsigmoid(Z)\n",
    "        dW = np.dot(dZ, A_prev.T)/m\n",
    "        db = np.sum(dZ, axis=1, keepdims=True)/m\n",
    "        dA_prev = np.dot(W.T, dZ)\n",
    "        \n",
    "        grads[\"dW\" + str(l+1)] = dW\n",
    "        grads[\"db\" + str(l+1)] = db\n",
    "        grads[\"dA\" + str(l)] = dA_prev\n",
    "    \n",
    "    return grads\n"
   ]
  },
  {
   "cell_type": "code",
   "execution_count": 262,
   "id": "0f513b67-0209-43f0-96fa-6c181aa382d1",
   "metadata": {},
   "outputs": [
    {
     "name": "stdout",
     "output_type": "stream",
     "text": [
      "The shape of Y is:  (10, 1)\n",
      "The shape of the AL is:  (10, 1)\n"
     ]
    }
   ],
   "source": [
    "Y = one_hot_y[:,9].reshape((10, 1))\n",
    "print(\"The shape of Y is: \", Y.shape)\n",
    "print(\"The shape of the AL is: \", output.shape)"
   ]
  },
  {
   "cell_type": "code",
   "execution_count": 263,
   "id": "75ad8bfc-2994-48cb-8490-2f60708666ba",
   "metadata": {},
   "outputs": [
    {
     "name": "stdout",
     "output_type": "stream",
     "text": [
      "The shape of  dW3 is:  (10, 32)\n",
      "The shape of  db3 is:  (10, 1)\n",
      "The shape of  dA2 is:  (32, 1)\n",
      "The shape of  dW2 is:  (32, 32)\n",
      "The shape of  db2 is:  (32, 1)\n",
      "The shape of  dA1 is:  (32, 1)\n",
      "The shape of  dW1 is:  (32, 784)\n",
      "The shape of  db1 is:  (32, 1)\n",
      "The shape of  dA0 is:  (784, 1)\n"
     ]
    }
   ],
   "source": [
    "grads = back_prop(output, Y, caches)\n",
    "\n",
    "for item in grads:\n",
    "    print(\"The shape of \", item, \"is: \" , grads[item].shape)"
   ]
  },
  {
   "cell_type": "markdown",
   "id": "a8ceb661-d161-497e-afbe-62ec70ad4287",
   "metadata": {},
   "source": [
    "# Update the parameters"
   ]
  },
  {
   "cell_type": "code",
   "execution_count": 264,
   "id": "b34aadae-ce99-43ab-9b35-0f4fabab4606",
   "metadata": {},
   "outputs": [],
   "source": [
    "def update_parameters(params, grads, learning_rate):\n",
    "    \n",
    "    parameters = params.copy()\n",
    "    L = len(parameters) // 2\n",
    "    \n",
    "    for l in range(L):\n",
    "        parameters[\"W\" + str(l+1)] = params[\"W\"+str(l+1)] - learning_rate*grads[\"dW\"+str(l+1)]\n",
    "        parameters[\"b\" + str(l+1)] = params[\"b\"+str(l+1)] - learning_rate*grads[\"db\"+str(l+1)]\n",
    "        \n",
    "    return parameters"
   ]
  },
  {
   "cell_type": "code",
   "execution_count": 265,
   "id": "3a6284dc-ed1f-47ef-aeef-bb6b7be2ae22",
   "metadata": {},
   "outputs": [],
   "source": [
    "new_params = update_parameters(parameters, grads, 0.001)"
   ]
  },
  {
   "cell_type": "code",
   "execution_count": 266,
   "id": "f0a59d2d-1913-4d40-98e3-ddc2c2bc8a83",
   "metadata": {},
   "outputs": [
    {
     "name": "stdout",
     "output_type": "stream",
     "text": [
      "The shape of  W1 is:  (32, 784)\n",
      "The shape of  b1 is:  (32, 1)\n",
      "The shape of  W2 is:  (32, 32)\n",
      "The shape of  b2 is:  (32, 1)\n",
      "The shape of  W3 is:  (10, 32)\n",
      "The shape of  b3 is:  (10, 1)\n"
     ]
    }
   ],
   "source": [
    "for thing in new_params:\n",
    "    print(\"The shape of \", thing, \"is: \" , new_params[thing].shape)"
   ]
  },
  {
   "cell_type": "markdown",
   "id": "ed9a4e7d-c8f4-4c0c-af3e-a9996faccbbc",
   "metadata": {},
   "source": [
    "# Now we are going to to Forward Prop on the new parameters and compute the new cost"
   ]
  },
  {
   "cell_type": "code",
   "execution_count": 267,
   "id": "a3a7ae85-fbc6-48fb-b6ff-30aadff51bfc",
   "metadata": {},
   "outputs": [],
   "source": [
    "X = inputs[:,9].reshape((784, 1))\n",
    "\n",
    "new_output, caches = forward_prop(X,new_params)"
   ]
  },
  {
   "cell_type": "code",
   "execution_count": 268,
   "id": "d7260daa-d6a8-42fb-873e-f9fd81500fbe",
   "metadata": {},
   "outputs": [
    {
     "data": {
      "text/plain": [
       "array([[0.03514269],\n",
       "       [0.07152485],\n",
       "       [0.09552097],\n",
       "       [0.09337493],\n",
       "       [0.04685222],\n",
       "       [0.08047147],\n",
       "       [0.13075844],\n",
       "       [0.15775461],\n",
       "       [0.02087986],\n",
       "       [0.26771996]])"
      ]
     },
     "execution_count": 268,
     "metadata": {},
     "output_type": "execute_result"
    }
   ],
   "source": [
    "new_output"
   ]
  },
  {
   "cell_type": "code",
   "execution_count": 269,
   "id": "327c1515-ab70-4cb6-865a-fa29b21017c7",
   "metadata": {},
   "outputs": [
    {
     "data": {
      "text/plain": [
       "1.3178137687414666"
      ]
     },
     "execution_count": 269,
     "metadata": {},
     "output_type": "execute_result"
    }
   ],
   "source": [
    "cross_entropy_loss(one_hot_y[:,9].reshape(10,1),new_output)"
   ]
  },
  {
   "cell_type": "markdown",
   "id": "520d321f-38b0-476c-aaa2-0eb44c39c1a0",
   "metadata": {},
   "source": [
    "# Test dataset"
   ]
  },
  {
   "cell_type": "code",
   "execution_count": 270,
   "id": "0b2f4ba3-b382-44e2-b416-c0b2f1003f18",
   "metadata": {},
   "outputs": [],
   "source": [
    "def Test_dataset(X,Y,parameters):\n",
    "    \n",
    "    test_output, caches = forward_prop(X,parameters)\n",
    "    #correct_guesses = np.sum(Y * test_output)\n",
    "    #correct_guess_percent = format((correct_guesses / Y.shape[1]) * 100, \".2f\")\n",
    "    print(cross_entropy_loss(Y, test_output))\n",
    "    #print(\"Accuracy (# of correct guesses):\", correct_guesses, \"/\", Y.shape[1], \"(\", correct_guess_percent, \"%)\")\n",
    "    \n",
    "    \n",
    "    y_pred_class = np.argmax(test_output, axis=0)\n",
    "    y_true_class = np.argmax(Y, axis=0)\n",
    "    correctly_classified = np.sum(y_pred_class == y_true_class)\n",
    "    accuracy = correctly_classified / y_true_class.size\n",
    "    accuracy_percentage = accuracy * 100\n",
    "    print(accuracy_percentage)\n",
    "    return test_output\n"
   ]
  },
  {
   "cell_type": "code",
   "execution_count": 271,
   "id": "1199a18c-59c8-477a-ba53-80c045421bc4",
   "metadata": {},
   "outputs": [
    {
     "name": "stdout",
     "output_type": "stream",
     "text": [
      "11.702298528055126\n",
      "10.100000000000001\n"
     ]
    }
   ],
   "source": [
    "inputs = x_test.reshape((10000, 28*28)).T\n",
    "one_hot_y = one_hot(y_test).T\n",
    "\n",
    "h = Test_dataset(inputs,one_hot_y,parameters)"
   ]
  },
  {
   "cell_type": "markdown",
   "id": "c9728f59-4f76-4a30-8d01-51b99299ad00",
   "metadata": {},
   "source": [
    "# Function for the whole thing:\n",
    "\n"
   ]
  },
  {
   "cell_type": "code",
   "execution_count": 281,
   "id": "514ced27-409c-4e22-ac43-fa8f4384c647",
   "metadata": {},
   "outputs": [],
   "source": [
    "def Model(X,Y):\n",
    "    layer_dims = [784,32,32,67,10]\n",
    "    parameters = initialize_parameters(layer_dims)\n",
    "    \n",
    "    for n in range(3):\n",
    "        print()\n",
    "        print(\"Epoch\", n +1)\n",
    "        print()\n",
    "        for i in range(100):\n",
    "            output, caches = forward_prop(X,parameters)\n",
    "            if i%10 ==0:\n",
    "                print(\"The cost after :\", i, \"repitions is: \", cross_entropy_loss(Y,output))\n",
    "            grads = back_prop(output, Y, caches)\n",
    "            parameters = update_parameters(parameters, grads, 0.001)\n",
    "    return parameters"
   ]
  },
  {
   "cell_type": "code",
   "execution_count": 282,
   "id": "ae967966-13f1-4eab-9d37-d20ab087e81d",
   "metadata": {},
   "outputs": [
    {
     "name": "stdout",
     "output_type": "stream",
     "text": [
      "\n",
      "Epoch 1\n",
      "\n",
      "The cost after : 0 repitions is:  12.149424605604684\n",
      "The cost after : 10 repitions is:  12.14988581159892\n",
      "The cost after : 20 repitions is:  12.150355799862789\n",
      "The cost after : 30 repitions is:  12.150834506341184\n",
      "The cost after : 40 repitions is:  12.15132188500427\n",
      "The cost after : 50 repitions is:  12.151817940421829\n",
      "The cost after : 60 repitions is:  12.152322713775451\n",
      "The cost after : 70 repitions is:  12.152836233719762\n",
      "The cost after : 80 repitions is:  12.153358488224475\n",
      "The cost after : 90 repitions is:  12.153889435093493\n",
      "\n",
      "Epoch 2\n",
      "\n",
      "The cost after : 0 repitions is:  12.154429022557727\n",
      "The cost after : 10 repitions is:  12.154977199280973\n",
      "The cost after : 20 repitions is:  12.1555339140913\n",
      "The cost after : 30 repitions is:  12.156099114058943\n",
      "The cost after : 40 repitions is:  12.156672748555897\n",
      "The cost after : 50 repitions is:  12.157254780204159\n",
      "The cost after : 60 repitions is:  12.157845196358428\n",
      "The cost after : 70 repitions is:  12.158444016828566\n",
      "The cost after : 80 repitions is:  12.159051301821936\n",
      "The cost after : 90 repitions is:  12.15966715825347\n",
      "\n",
      "Epoch 3\n",
      "\n",
      "The cost after : 0 repitions is:  12.160291731142255\n",
      "The cost after : 10 repitions is:  12.160925176640003\n",
      "The cost after : 20 repitions is:  12.161567630705006\n",
      "The cost after : 30 repitions is:  12.162219188115703\n",
      "The cost after : 40 repitions is:  12.1628798972281\n",
      "The cost after : 50 repitions is:  12.163549768241298\n",
      "The cost after : 60 repitions is:  12.164228787448971\n",
      "The cost after : 70 repitions is:  12.164916929595186\n",
      "The cost after : 80 repitions is:  12.165614166386085\n",
      "The cost after : 90 repitions is:  12.166320475929492\n"
     ]
    }
   ],
   "source": [
    "X = inputs\n",
    "Y = one_hot_y\n",
    "\n",
    "params = Model(X,Y)"
   ]
  },
  {
   "cell_type": "code",
   "execution_count": 274,
   "id": "672d97e3-5188-4e3f-aac5-a482cb5331bd",
   "metadata": {},
   "outputs": [],
   "source": [
    "def Test_dataset(X,Y,parameters):\n",
    "    \n",
    "    test_output, caches = forward_prop(X,parameters)\n",
    "    #correct_guesses = np.sum(Y * test_output)\n",
    "    #correct_guess_percent = format((correct_guesses / Y.shape[1]) * 100, \".2f\")\n",
    "    print(cross_entropy_loss(Y, test_output))\n",
    "    #print(\"Accuracy (# of correct guesses):\", correct_guesses, \"/\", Y.shape[1], \"(\", correct_guess_percent, \"%)\")\n",
    "    \n",
    "    \n",
    "    y_pred_class = np.argmax(test_output, axis=0)\n",
    "    y_true_class = np.argmax(Y, axis=0)\n",
    "    correctly_classified = np.sum(y_pred_class == y_true_class)\n",
    "    accuracy = correctly_classified / y_true_class.size\n",
    "    accuracy_percentage = accuracy * 100\n",
    "    print(accuracy_percentage)\n",
    "    return test_output\n",
    "\n"
   ]
  },
  {
   "cell_type": "code",
   "execution_count": 275,
   "id": "038216ab-3986-42f8-afb1-8daed6169982",
   "metadata": {},
   "outputs": [
    {
     "name": "stdout",
     "output_type": "stream",
     "text": [
      "11.853825785064904\n",
      "11.28\n"
     ]
    }
   ],
   "source": [
    "inputs = x_test.reshape((10000, 28*28)).T\n",
    "one_hot_y = one_hot(y_test).T\n",
    "\n",
    "h = Test_dataset(inputs,one_hot_y,params)"
   ]
  },
  {
   "cell_type": "code",
   "execution_count": null,
   "id": "900f0975-5460-4f63-adc0-c879874e92ff",
   "metadata": {},
   "outputs": [],
   "source": [
    "for thing in params:\n",
    "    print(\"The shape of \", thing, \"is: \" , params[thing].shape)"
   ]
  },
  {
   "cell_type": "code",
   "execution_count": null,
   "id": "3ab8363b-4a56-4322-a36f-d638141b8abb",
   "metadata": {},
   "outputs": [],
   "source": [
    "one_hot_y.T.shape"
   ]
  },
  {
   "cell_type": "code",
   "execution_count": null,
   "id": "f3c10a37-c941-44b7-b784-b8476a1e4741",
   "metadata": {},
   "outputs": [],
   "source": [
    "one_hot_y[:,9]"
   ]
  },
  {
   "cell_type": "code",
   "execution_count": null,
   "id": "0a703375-cca1-446f-bfc5-68b6f133886d",
   "metadata": {},
   "outputs": [],
   "source": [
    "h[:,9]"
   ]
  },
  {
   "cell_type": "code",
   "execution_count": null,
   "id": "cbf2f530-9dae-4b6c-8c6b-b294b95e0df4",
   "metadata": {},
   "outputs": [],
   "source": [
    "h[:,9]*one_hot_y[:,9]"
   ]
  },
  {
   "cell_type": "code",
   "execution_count": 84,
   "id": "4c3febc8-b78f-43d2-8de2-772fb30fac23",
   "metadata": {},
   "outputs": [
    {
     "data": {
      "text/plain": [
       "6"
      ]
     },
     "execution_count": 84,
     "metadata": {},
     "output_type": "execute_result"
    }
   ],
   "source": [
    "len(parameters)"
   ]
  },
  {
   "cell_type": "code",
   "execution_count": 248,
   "id": "0deb214c-05e2-47e9-a9ab-c84bc9951026",
   "metadata": {},
   "outputs": [
    {
     "data": {
      "text/plain": [
       "4"
      ]
     },
     "execution_count": 248,
     "metadata": {},
     "output_type": "execute_result"
    }
   ],
   "source": [
    "len([1,2,3,4])"
   ]
  },
  {
   "cell_type": "code",
   "execution_count": 280,
   "id": "db2dc2ac-9570-491f-8abc-f14a7316525c",
   "metadata": {},
   "outputs": [
    {
     "name": "stdout",
     "output_type": "stream",
     "text": [
      "6\n"
     ]
    }
   ],
   "source": [
    "print(len(params))"
   ]
  },
  {
   "cell_type": "code",
   "execution_count": null,
   "id": "cfec1e50-8d5a-42f5-825c-3c2cae9fc5fe",
   "metadata": {},
   "outputs": [],
   "source": []
  }
 ],
 "metadata": {
  "kernelspec": {
   "display_name": "Python 3 (ipykernel)",
   "language": "python",
   "name": "python3"
  },
  "language_info": {
   "codemirror_mode": {
    "name": "ipython",
    "version": 3
   },
   "file_extension": ".py",
   "mimetype": "text/x-python",
   "name": "python",
   "nbconvert_exporter": "python",
   "pygments_lexer": "ipython3",
   "version": "3.9.12"
  }
 },
 "nbformat": 4,
 "nbformat_minor": 5
}
