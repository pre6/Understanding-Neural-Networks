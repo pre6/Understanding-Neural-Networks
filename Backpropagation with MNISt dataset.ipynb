{
 "cells": [
  {
   "cell_type": "code",
   "execution_count": 1,
   "id": "6e743701",
   "metadata": {},
   "outputs": [],
   "source": [
    "import random\n",
    "import numpy as np\n",
    "import matplotlib.pyplot as plt\n",
    "%matplotlib inline\n",
    "\n",
    "from tensorflow.keras.datasets import mnist\n",
    "\n",
    "\n",
    "(x_train, y_train), (x_test, y_test) = mnist.load_data()\n"
   ]
  },
  {
   "cell_type": "code",
   "execution_count": 2,
   "id": "732c4b52",
   "metadata": {},
   "outputs": [
    {
     "data": {
      "image/png": "[encoded data removed]",
      "text/plain": [
       "<Figure size 432x288 with 1 Axes>"
      ]
     },
     "metadata": {
      "needs_background": "light"
     },
     "output_type": "display_data"
    }
   ],
   "source": [
    "# Select an image from the dataset\n",
    "img = x_train[89]\n",
    "\n",
    "# Plot the image\n",
    "plt.imshow(img, cmap='gray')\n",
    "plt.show()\n"
   ]
  },
  {
   "cell_type": "code",
   "execution_count": 3,
   "id": "9d30b963",
   "metadata": {},
   "outputs": [
    {
     "name": "stdout",
     "output_type": "stream",
     "text": [
      "The shape of x_train.shape is: (60000, 28, 28)\n",
      "the shape of x_train.shape is: (60000,)\n"
     ]
    }
   ],
   "source": [
    "print(\"The shape of x_train.shape is:\", x_train.shape)\n",
    "print(\"the shape of x_train.shape is:\", y_train.shape)"
   ]
  },
  {
   "cell_type": "code",
   "execution_count": 4,
   "id": "3e9d5d66",
   "metadata": {},
   "outputs": [
    {
     "name": "stdout",
     "output_type": "stream",
     "text": [
      "the new shape is:  (784, 1000)\n",
      "the new output shape is: (1000,)\n",
      "(10, 1000)\n",
      "[0. 1. 0. 0. 0. 0. 0. 0. 0. 0.]\n",
      "1\n"
     ]
    }
   ],
   "source": [
    "inputs = x_train.reshape((60000, 28*28))[0:1000].T\n",
    "print(\"the new shape is: \" ,inputs.shape)\n",
    "\n",
    "outputs = y_train[0:1000]\n",
    "print(\"the new output shape is:\" , outputs.shape)\n",
    "\n",
    "def one_hot(Y):\n",
    "    one_hot_Y = np.zeros((Y.size, Y.max() + 1))\n",
    "    \n",
    "    one_hot_Y[np.arange(Y.shape[0]), Y] = 1\n",
    "    one_hot_Y = one_hot_Y\n",
    "    return one_hot_Y\n",
    "\n",
    "outputs = one_hot(outputs).T\n",
    "\n",
    "print(outputs.shape)\n",
    "print(outputs[:,99])\n",
    "print(y_train[99])\n"
   ]
  },
  {
   "cell_type": "code",
   "execution_count": 5,
   "id": "85fa7c35",
   "metadata": {},
   "outputs": [],
   "source": [
    "def init_params():\n",
    "    W1 = np.random.randn(10, 784)\n",
    "    b1 = np.random.randn(10, 1)\n",
    "    W2 = np.random.randn(10, 10)\n",
    "    b2 = np.random.randn(10, 1)\n",
    "    \n",
    "    return W1,b1,W2,b2\n",
    "\n",
    "\n",
    "def ReLU(Z):\n",
    "    return np.maximum(Z,0)\n",
    "\n",
    "def SoftMax(z):\n",
    "    z = z - np.max(z, axis = 1).reshape(z.shape[0],1)\n",
    "    return np.exp(z) / np.sum(np.exp(z), axis = 1).reshape(z.shape[0],1)\n",
    "\n",
    "\n",
    "def forward_prop(W1,W2,b1,b2,X):\n",
    "    Z1 = np.dot(W1,X) + b1\n",
    "    A1 = ReLU(Z1)\n",
    "    Z2 = np.dot(W2,A1) + b2\n",
    "    A2 = SoftMax(Z2)\n",
    "    return Z1,A1,Z2,A2\n",
    "\n",
    "def deriv_ReLU(Z):\n",
    "    return (Z>0)*1\n",
    "\n",
    "def loss(A2,Y):\n",
    "    return A2-Y\n",
    "\n",
    "    \n",
    "\n",
    "def back_prop(Z1, A1, Z2, A2, W1, W2, X, Y):\n",
    "    m = Y.size\n",
    "    \n",
    "    dZ2 = loss(A2,Y)\n",
    "    dW2 = (1/m)*np.dot(dZ2, A1.T)\n",
    "    db2 = (1/m)*np.sum(dZ2)\n",
    "\n",
    "    \n",
    "    dZ1 = np.dot(W2, dZ2) * (deriv_ReLU(Z1))*(1/m)\n",
    "    dW1 = (1/m)*np.dot(dZ1, X.T)\n",
    "    db1 = (1/m)*np.sum(dZ1)\n",
    "    \n",
    "    return dW1, db1, dW2, db2\n",
    "\n",
    "def update_params(dW1, db1, dW2, db2,W1,W2,b1,b2, alpha):\n",
    "    \n",
    "    W1 = W1 - alpha * dW1\n",
    "    b1 = b1 - alpha * db1\n",
    "    W2 = W2 - alpha * dW2\n",
    "    b2 = b2 - alpha * db2\n",
    "\n",
    "    return W1,b1,W2,b2\n",
    "\n",
    "def get_predictions(A2):\n",
    "    return np.argmax(A2, 0)\n",
    "\n",
    "def get_accuracy(predictions, Y):\n",
    "    return np.sum(predictions == Y) / Y.size\n",
    "\n",
    "def gradient_descent(X,Y, iterations,alpha):\n",
    "    W1, b1, W2, b2, = init_params()\n",
    "    \n",
    "    for i in range(iterations):\n",
    "        \n",
    "        Z1,A1,Z2,A2 = forward_prop(W1,W2,b1,b2,X)\n",
    "        dW1, db1, dW2, db2 = back_prop(Z1, A1, Z2, A2, W1, W2, X, Y)\n",
    "        W1,b1,W2,b2= update_params(dW1, db1, dW2, db2, W1,W2,b1,b2, alpha)\n",
    "        \n",
    "        if i % 10 == 0:\n",
    "            print(\"Iteration: \", i)\n",
    "            predictions = get_predictions(A2)\n",
    "            print(get_accuracy(predictions, Y))\n",
    "\n",
    "    return W1,b1,W2,b2\n",
    "        \n",
    "    \n",
    "    \n",
    "\n",
    "    \n",
    "    \n",
    "    \n"
   ]
  },
  {
   "cell_type": "code",
   "execution_count": 6,
   "id": "69d07140",
   "metadata": {},
   "outputs": [
    {
     "name": "stdout",
     "output_type": "stream",
     "text": [
      "Iteration:  0\n",
      "0.8786\n",
      "Iteration:  10\n",
      "0.8788\n",
      "Iteration:  20\n",
      "0.8852\n",
      "Iteration:  30\n",
      "0.8903\n",
      "Iteration:  40\n",
      "0.892\n",
      "Iteration:  50\n",
      "0.8929\n",
      "Iteration:  60\n",
      "0.8938\n",
      "Iteration:  70\n",
      "0.8938\n",
      "Iteration:  80\n",
      "0.8922\n",
      "Iteration:  90\n",
      "0.8939\n",
      "Iteration:  100\n",
      "0.8947\n",
      "Iteration:  110\n",
      "0.8947\n",
      "Iteration:  120\n",
      "0.8938\n",
      "Iteration:  130\n",
      "0.8938\n",
      "Iteration:  140\n",
      "0.8938\n",
      "Iteration:  150\n",
      "0.8929\n",
      "Iteration:  160\n",
      "0.8929\n",
      "Iteration:  170\n",
      "0.8929\n",
      "Iteration:  180\n",
      "0.8947\n",
      "Iteration:  190\n",
      "0.8947\n",
      "Iteration:  200\n",
      "0.8956\n",
      "Iteration:  210\n",
      "0.8956\n",
      "Iteration:  220\n",
      "0.8956\n",
      "Iteration:  230\n",
      "0.8956\n",
      "Iteration:  240\n",
      "0.8956\n",
      "Iteration:  250\n",
      "0.8956\n",
      "Iteration:  260\n",
      "0.8965\n",
      "Iteration:  270\n",
      "0.8965\n",
      "Iteration:  280\n",
      "0.8965\n",
      "Iteration:  290\n",
      "0.8958\n",
      "Iteration:  300\n",
      "0.8958\n",
      "Iteration:  310\n",
      "0.8958\n",
      "Iteration:  320\n",
      "0.8958\n",
      "Iteration:  330\n",
      "0.8958\n",
      "Iteration:  340\n",
      "0.8958\n",
      "Iteration:  350\n",
      "0.8958\n",
      "Iteration:  360\n",
      "0.8966\n",
      "Iteration:  370\n",
      "0.8966\n",
      "Iteration:  380\n",
      "0.8966\n",
      "Iteration:  390\n",
      "0.8965\n",
      "Iteration:  400\n",
      "0.8965\n",
      "Iteration:  410\n",
      "0.8974\n",
      "Iteration:  420\n",
      "0.8974\n",
      "Iteration:  430\n",
      "0.8974\n",
      "Iteration:  440\n",
      "0.8974\n",
      "Iteration:  450\n",
      "0.8982\n",
      "Iteration:  460\n",
      "0.8982\n",
      "Iteration:  470\n",
      "0.8982\n",
      "Iteration:  480\n",
      "0.8982\n",
      "Iteration:  490\n",
      "0.8982\n"
     ]
    },
    {
     "data": {
      "text/plain": [
       "(10, 1000)"
      ]
     },
     "execution_count": 6,
     "metadata": {},
     "output_type": "execute_result"
    }
   ],
   "source": [
    "W1, b1, W2, b2 = gradient_descent(inputs,outputs,500,0.001)\n",
    "\n",
    "outputs.shape"
   ]
  },
  {
   "cell_type": "code",
   "execution_count": 7,
   "id": "a3777cc5",
   "metadata": {},
   "outputs": [
    {
     "name": "stdout",
     "output_type": "stream",
     "text": [
      "[[1.]\n",
      " [1.]\n",
      " [1.]\n",
      " [1.]\n",
      " [1.]\n",
      " [1.]\n",
      " [1.]\n",
      " [1.]\n",
      " [1.]\n",
      " [1.]]\n"
     ]
    }
   ],
   "source": [
    "test = np.reshape(inputs[:,1],(784,1))\n",
    "\n",
    "\n",
    "Z1 = np.dot(W1,test) + b1\n",
    "A1 = ReLU(Z1)\n",
    "Z2 = np.dot(W2,A1) + b2\n",
    "A2 = SoftMax(Z2)\n",
    "\n",
    "print(A2)\n",
    "\n",
    "\n"
   ]
  },
  {
   "cell_type": "code",
   "execution_count": 72,
   "id": "97a8d077",
   "metadata": {},
   "outputs": [
    {
     "data": {
      "text/plain": [
       "(10, 1000)"
      ]
     },
     "execution_count": 72,
     "metadata": {},
     "output_type": "execute_result"
    }
   ],
   "source": [
    "A2.shape"
   ]
  },
  {
   "cell_type": "code",
   "execution_count": 73,
   "id": "05a2cecc",
   "metadata": {},
   "outputs": [
    {
     "data": {
      "text/plain": [
       "(10, 1000)"
      ]
     },
     "execution_count": 73,
     "metadata": {},
     "output_type": "execute_result"
    }
   ],
   "source": [
    "Z1.shape"
   ]
  },
  {
   "cell_type": "code",
   "execution_count": 74,
   "id": "4a957ab2",
   "metadata": {},
   "outputs": [
    {
     "data": {
      "text/plain": [
       "(10, 784)"
      ]
     },
     "execution_count": 74,
     "metadata": {},
     "output_type": "execute_result"
    }
   ],
   "source": [
    "W1.shape"
   ]
  },
  {
   "cell_type": "code",
   "execution_count": 75,
   "id": "17b4ac2c",
   "metadata": {},
   "outputs": [
    {
     "data": {
      "text/plain": [
       "(10, 1000)"
      ]
     },
     "execution_count": 75,
     "metadata": {},
     "output_type": "execute_result"
    }
   ],
   "source": [
    "b1.shape"
   ]
  },
  {
   "cell_type": "code",
   "execution_count": null,
   "id": "f66c69cf",
   "metadata": {},
   "outputs": [],
   "source": []
  }
 ],
 "metadata": {
  "kernelspec": {
   "display_name": "Python 3 (ipykernel)",
   "language": "python",
   "name": "python3"
  },
  "language_info": {
   "codemirror_mode": {
    "name": "ipython",
    "version": 3
   },
   "file_extension": ".py",
   "mimetype": "text/x-python",
   "name": "python",
   "nbconvert_exporter": "python",
   "pygments_lexer": "ipython3",
   "version": "3.9.12"
  }
 },
 "nbformat": 4,
 "nbformat_minor": 5
}
