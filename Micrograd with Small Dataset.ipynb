{
 "cells": [
  {
   "cell_type": "code",
   "execution_count": 1,
   "id": "fd7252b4",
   "metadata": {},
   "outputs": [],
   "source": [
    "import random\n",
    "import numpy as np\n",
    "import matplotlib.pyplot as plt\n",
    "%matplotlib inline\n",
    "\n",
    "\n",
    "\n",
    "from micrograd.engine import Value\n",
    "from micrograd.nn import Neuron, Layer, MLP"
   ]
  },
  {
   "cell_type": "code",
   "execution_count": 203,
   "id": "944a7b5d",
   "metadata": {},
   "outputs": [
    {
     "name": "stdout",
     "output_type": "stream",
     "text": [
      "(100, 2)\n",
      "(100,)\n"
     ]
    },
    {
     "data": {
      "text/plain": [
       "<matplotlib.collections.PathCollection at 0x25c69160dc0>"
      ]
     },
     "execution_count": 203,
     "metadata": {},
     "output_type": "execute_result"
    },
    {
     "data": {
      "image/png": "[encoded data removed]",
      "text/plain": [
       "<Figure size 360x360 with 1 Axes>"
      ]
     },
     "metadata": {
      "needs_background": "light"
     },
     "output_type": "display_data"
    }
   ],
   "source": [
    "from sklearn.datasets import make_moons, make_blobs\n",
    "X, y = make_moons(n_samples=100, noise=0.1)\n",
    "\n",
    "#make_blobs(n_samples=100, centers=2, n_features=2, random_state=0)\n",
    "y = y*2 - 1 # make y be -1 or 1\n",
    "\n",
    "print(X.shape)\n",
    "\n",
    "print(y.shape)\n",
    "\n",
    "\n",
    "\n",
    "plt.figure(figsize=(5,5))\n",
    "plt.scatter(X[:,0], X[:,1], c=y, s=20, cmap='jet')\n",
    "\n"
   ]
  },
  {
   "cell_type": "code",
   "execution_count": 223,
   "id": "33abad7f",
   "metadata": {},
   "outputs": [
    {
     "name": "stdout",
     "output_type": "stream",
     "text": [
      "MLP of [Layer of [ReLUNeuron(2), ReLUNeuron(2), ReLUNeuron(2), ReLUNeuron(2), ReLUNeuron(2), ReLUNeuron(2), ReLUNeuron(2), ReLUNeuron(2), ReLUNeuron(2), ReLUNeuron(2), ReLUNeuron(2), ReLUNeuron(2), ReLUNeuron(2), ReLUNeuron(2), ReLUNeuron(2), ReLUNeuron(2)], Layer of [ReLUNeuron(16), ReLUNeuron(16), ReLUNeuron(16), ReLUNeuron(16), ReLUNeuron(16), ReLUNeuron(16), ReLUNeuron(16), ReLUNeuron(16), ReLUNeuron(16), ReLUNeuron(16), ReLUNeuron(16), ReLUNeuron(16), ReLUNeuron(16), ReLUNeuron(16), ReLUNeuron(16), ReLUNeuron(16)], Layer of [LinearNeuron(16)]]\n",
      "number of parameters 337\n"
     ]
    }
   ],
   "source": [
    "\n",
    "# initialize a model \n",
    "model = MLP(2, [16, 16, 1]) # 2-layer neural network\n",
    "print(model)\n",
    "print(\"number of parameters\", len(model.parameters()))\n",
    "\n",
    "for p in model.parameters():\n",
    "    p.grad = 0.0\n",
    "\n"
   ]
  },
  {
   "cell_type": "code",
   "execution_count": 205,
   "id": "d214cdc2",
   "metadata": {},
   "outputs": [],
   "source": [
    "ypred = [model(x) for x in X]"
   ]
  },
  {
   "cell_type": "code",
   "execution_count": 157,
   "id": "8e8e341b",
   "metadata": {},
   "outputs": [
    {
     "name": "stdout",
     "output_type": "stream",
     "text": [
      "[Value(data=2.1884321968570974, grad=0), Value(data=0.4506849681803984, grad=0), Value(data=2.029988241103149, grad=0), Value(data=-0.05694054195500058, grad=0), Value(data=1.1608247419366617, grad=0), Value(data=1.910926999789522, grad=0), Value(data=0.8267092473417806, grad=0), Value(data=1.9982173475088758, grad=0)]\n"
     ]
    }
   ],
   "source": [
    "print(ypred[0:8])"
   ]
  },
  {
   "cell_type": "code",
   "execution_count": 158,
   "id": "193f7bbd",
   "metadata": {},
   "outputs": [
    {
     "name": "stdout",
     "output_type": "stream",
     "text": [
      "Value(data=362.4950891905646, grad=0)\n",
      "Value(data=0.23550571390294128, grad=-197.27045744536315)\n",
      "2.2082102883565726\n"
     ]
    }
   ],
   "source": [
    "loss = sum((yout - ygt)**2 for ygt, yout in zip(y, ypred))\n",
    "\n",
    "print(loss)\n",
    "loss.backward()\n",
    "\n",
    "print(model.layers[0].neurons[0].w[0])\n",
    "\n",
    "for p in model.parameters():\n",
    "    p.data += -0.01 * p.grad\n",
    "    \n",
    "print(model.layers[0].neurons[0].w[0].data)\n",
    "\n"
   ]
  },
  {
   "cell_type": "code",
   "execution_count": 224,
   "id": "bc0ea9a8",
   "metadata": {
    "scrolled": true
   },
   "outputs": [
    {
     "name": "stdout",
     "output_type": "stream",
     "text": [
      "epoch: 0\n",
      "0 334.161687256494\n",
      "1 165.36371767365023\n",
      "2 63.17845980491002\n",
      "3 48.86795177434896\n",
      "4 44.59457130866092\n",
      "5 41.39463319411645\n",
      "6 39.18167810809849\n",
      "7 37.42790788441841\n",
      "8 35.82057403605275\n",
      "9 34.48612730635494\n",
      "10 33.421687775063035\n",
      "11 32.54899900758056\n",
      "12 31.698948768139118\n",
      "13 30.976417254822245\n",
      "14 30.354249002108254\n",
      "15 29.813882624071002\n",
      "16 29.333566086230583\n",
      "17 28.903399217467832\n",
      "18 28.50222749403245\n",
      "19 28.08546711147261\n",
      "20 27.670776828116114\n",
      "21 27.309583063954328\n",
      "22 26.98272183585559\n",
      "23 26.69321803307117\n",
      "24 26.43334188816099\n",
      "25 26.197532164883487\n",
      "26 25.96480360154114\n",
      "27 25.73755310519744\n",
      "28 25.516465585971986\n",
      "29 25.302761531835436\n",
      "30 25.096144670193844\n",
      "31 24.894090422505393\n",
      "32 24.69312706211244\n",
      "33 24.48902427483907\n",
      "34 24.284914936384002\n",
      "35 24.078499379931213\n",
      "36 23.8737171646497\n",
      "37 23.66093529778619\n",
      "38 23.443553491283645\n",
      "39 23.179309909667946\n",
      "40 22.914513163182814\n",
      "41 22.693509582498876\n",
      "42 22.486409635689455\n",
      "43 22.285670300117694\n",
      "44 22.09318559491438\n",
      "45 21.90284124859177\n",
      "46 21.713366990225435\n",
      "47 21.522819741614583\n",
      "48 21.334561036288033\n",
      "49 21.15374260336086\n",
      "50 20.974594010619366\n",
      "51 20.789794359790353\n",
      "52 20.607135447235212\n",
      "53 20.426306940434017\n",
      "54 20.253405647130084\n",
      "55 20.058639261155378\n",
      "56 19.865257419686507\n",
      "57 19.672399267324977\n",
      "58 19.475015835400633\n",
      "59 19.290871512572764\n",
      "60 19.082542171538766\n",
      "61 18.877844975689367\n",
      "62 18.677014506266605\n",
      "63 18.479730655665712\n",
      "64 18.287392233874606\n",
      "65 18.099587576176454\n",
      "66 17.917333850081043\n",
      "67 17.72878355165097\n",
      "68 17.545924566851998\n",
      "69 17.368930442535685\n",
      "70 17.20079144366075\n",
      "71 17.03224010609688\n",
      "72 16.867287609239465\n",
      "73 16.70710423374879\n",
      "74 16.537805062702002\n",
      "75 16.372123750767283\n",
      "76 16.208572245115345\n",
      "77 16.04787171916304\n",
      "78 15.889605851248957\n",
      "79 15.745108291541806\n",
      "80 15.591565944652201\n",
      "81 15.429944741297867\n",
      "82 15.279673592662768\n",
      "83 15.122689102680273\n",
      "84 14.974685510624669\n",
      "85 14.821791537910315\n",
      "86 14.677989884107365\n",
      "87 14.519066553224905\n",
      "88 14.363445638650951\n",
      "89 14.21405506053806\n",
      "90 14.072913108270805\n",
      "91 13.96269403549943\n",
      "92 13.829968729050059\n",
      "93 13.68270825829028\n",
      "94 13.517816450208896\n",
      "95 13.37804225010273\n",
      "96 13.256445582275674\n",
      "97 13.164745689895083\n",
      "98 13.187955785873124\n",
      "99 13.27225341700232\n"
     ]
    }
   ],
   "source": [
    "for e in range(1):\n",
    "    print(\"epoch:\" , e)\n",
    "\n",
    "    for k in range(100):\n",
    "        ypred = [model(x) for x in X]\n",
    "        loss = sum((yout - ygt)**2 for ygt, yout in zip(y, ypred))\n",
    "\n",
    "\n",
    "        for p in model.parameters():\n",
    "            p.grad = 0.0\n",
    "\n",
    "        loss.backward()\n",
    "\n",
    "        for p in model.parameters():\n",
    "            p.data += -0.001 *p.grad\n",
    "\n",
    "        print(k, loss.data)"
   ]
  },
  {
   "cell_type": "code",
   "execution_count": 226,
   "id": "915f17a4",
   "metadata": {},
   "outputs": [
    {
     "name": "stdout",
     "output_type": "stream",
     "text": [
      "[[False False False False False False False False False False  True  True\n",
      "   True  True  True  True  True  True  True  True  True]\n",
      " [False False False False False False False False False  True  True  True\n",
      "   True  True  True  True  True  True  True  True  True]\n",
      " [False False False False False False False False  True  True  True  True\n",
      "   True  True  True  True  True  True  True  True  True]\n",
      " [False False False False False False False  True  True  True  True  True\n",
      "   True  True  True  True  True  True  True  True  True]\n",
      " [False False False False False False False  True  True  True  True  True\n",
      "   True  True  True  True  True  True  True  True  True]\n",
      " [False False False False False False False  True  True  True  True  True\n",
      "   True  True  True  True  True  True  True  True  True]\n",
      " [False False False False False False False  True  True  True  True  True\n",
      "   True  True  True  True  True  True  True  True  True]\n",
      " [False False False False False False False  True  True  True  True  True\n",
      "  False  True  True  True  True  True  True  True  True]\n",
      " [False False False False False False False  True  True  True False False\n",
      "  False False False  True  True  True  True  True  True]\n",
      " [False False False False False False False False False False False False\n",
      "  False False False False False  True  True  True  True]\n",
      " [False False False False False False False False False False False False\n",
      "  False False False False False False False False  True]\n",
      " [False False False False False False False False False False False False\n",
      "  False False False False False False False False False]\n",
      " [False False False False False False False False False False False False\n",
      "  False False False False False False False False False]\n",
      " [False False False False False False False False False False False False\n",
      "  False False False False False False False False False]\n",
      " [False False False False False False False False False False False False\n",
      "  False False False False False False False False False]]\n"
     ]
    },
    {
     "data": {
      "text/plain": [
       "(-1.652316654122941, 1.847683345877059)"
      ]
     },
     "execution_count": 226,
     "metadata": {},
     "output_type": "execute_result"
    },
    {
     "data": {
      "image/png": "[encoded data removed]",
      "text/plain": [
       "<Figure size 432x288 with 1 Axes>"
      ]
     },
     "metadata": {
      "needs_background": "light"
     },
     "output_type": "display_data"
    }
   ],
   "source": [
    "h = 0.25\n",
    "x_min, x_max = X[:, 0].min() - 1, X[:, 0].max() + 1\n",
    "y_min, y_max = X[:, 1].min() - 1, X[:, 1].max() + 1\n",
    "\n",
    "\n",
    "xx, yy = np.meshgrid(np.arange(x_min, x_max, h),\n",
    "                     np.arange(y_min, y_max, h))\n",
    "\n",
    "\n",
    "Xmesh = np.c_[xx.ravel(), yy.ravel()]\n",
    "inputs = [list(map(Value, xrow)) for xrow in Xmesh]\n",
    "scores = list(map(model, inputs))\n",
    "Z = np.array([s.data > 0 for s in scores])\n",
    "Z = Z.reshape(xx.shape)\n",
    "\n",
    "print(Z)\n",
    "\n",
    "fig = plt.figure()\n",
    "plt.contourf(xx, yy, Z, cmap=plt.cm.Spectral, alpha=0.8)\n",
    "plt.scatter(X[:, 0], X[:, 1], c=y, s=40, cmap=plt.cm.Spectral)\n",
    "plt.xlim(xx.min(), xx.max())\n",
    "plt.ylim(yy.min(), yy.max())"
   ]
  },
  {
   "cell_type": "code",
   "execution_count": 218,
   "id": "63cb2f9f",
   "metadata": {},
   "outputs": [
    {
     "name": "stdout",
     "output_type": "stream",
     "text": [
      "Value(data=13.230973846623266, grad=1)\n"
     ]
    }
   ],
   "source": [
    "print(loss)"
   ]
  },
  {
   "cell_type": "code",
   "execution_count": 219,
   "id": "7f7a2401",
   "metadata": {},
   "outputs": [
    {
     "name": "stdout",
     "output_type": "stream",
     "text": [
      "Value(data=0.7949729209844941, grad=-0.41005415803101175)\n",
      "1\n"
     ]
    }
   ],
   "source": [
    "print(ypred[1])\n",
    "print(y[1])\n",
    "\n"
   ]
  },
  {
   "cell_type": "code",
   "execution_count": null,
   "id": "11721229",
   "metadata": {},
   "outputs": [],
   "source": []
  }
 ],
 "metadata": {
  "kernelspec": {
   "display_name": "Python 3 (ipykernel)",
   "language": "python",
   "name": "python3"
  },
  "language_info": {
   "codemirror_mode": {
    "name": "ipython",
    "version": 3
   },
   "file_extension": ".py",
   "mimetype": "text/x-python",
   "name": "python",
   "nbconvert_exporter": "python",
   "pygments_lexer": "ipython3",
   "version": "3.9.12"
  }
 },
 "nbformat": 4,
 "nbformat_minor": 5
}
