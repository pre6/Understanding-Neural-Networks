{
 "cells": [
  {
   "cell_type": "code",
   "execution_count": 1,
   "id": "7770c69c",
   "metadata": {},
   "outputs": [],
   "source": [
    "import random\n",
    "import numpy as np\n",
    "import matplotlib.pyplot as plt\n",
    "%matplotlib inline\n",
    "\n",
    "from tensorflow.keras.datasets import mnist\n",
    "(x_train, y_train), (x_test, y_test) = mnist.load_data()\n"
   ]
  },
  {
   "cell_type": "code",
   "execution_count": 2,
   "id": "dbc27159",
   "metadata": {},
   "outputs": [],
   "source": [
    "from micrograd.engine import Value\n",
    "from micrograd.nn import Neuron, Layer, MLP"
   ]
  },
  {
   "cell_type": "markdown",
   "id": "a01fdd64",
   "metadata": {},
   "source": [
    "# Exploring the DataSet"
   ]
  },
  {
   "cell_type": "code",
   "execution_count": 3,
   "id": "35d91042",
   "metadata": {},
   "outputs": [
    {
     "data": {
      "image/png": "[encoded data removed]",
      "text/plain": [
       "<Figure size 432x288 with 1 Axes>"
      ]
     },
     "metadata": {
      "needs_background": "light"
     },
     "output_type": "display_data"
    }
   ],
   "source": [
    "# Select an image from the dataset\n",
    "img = x_train[0]\n",
    "\n",
    "# Plot the image\n",
    "plt.imshow(img, cmap='gray')\n",
    "plt.show()\n"
   ]
  },
  {
   "cell_type": "code",
   "execution_count": 4,
   "id": "9556a212",
   "metadata": {},
   "outputs": [
    {
     "name": "stdout",
     "output_type": "stream",
     "text": [
      "The shape of x_train.shape is: (60000, 28, 28)\n",
      "the shape of x_train.shape is: (60000,)\n"
     ]
    }
   ],
   "source": [
    "print(\"The shape of x_train.shape is:\", x_train.shape)\n",
    "print(\"the shape of x_train.shape is:\", y_train.shape)\n",
    "\n"
   ]
  },
  {
   "cell_type": "markdown",
   "id": "854083f8",
   "metadata": {},
   "source": [
    "## Our data set will have 1000 examples and will be flattened so that each image is a vector:"
   ]
  },
  {
   "cell_type": "code",
   "execution_count": 5,
   "id": "b2cfac40",
   "metadata": {},
   "outputs": [
    {
     "name": "stdout",
     "output_type": "stream",
     "text": [
      "the new shape is:  (15, 784)\n",
      "the new output shape is: (15,)\n"
     ]
    },
    {
     "data": {
      "text/plain": [
       "15"
      ]
     },
     "execution_count": 5,
     "metadata": {},
     "output_type": "execute_result"
    }
   ],
   "source": [
    "inputs = x_train.reshape((60000, 28*28))[0:15]\n",
    "print(\"the new shape is: \" ,inputs.shape)\n",
    "\n",
    "outputs = y_train[0:15]\n",
    "print(\"the new output shape is:\" , outputs.shape)\n",
    "\n",
    "outputs.size\n",
    "outputs.shape[0]"
   ]
  },
  {
   "cell_type": "markdown",
   "id": "0996ff7a",
   "metadata": {},
   "source": [
    "## Turn the outputs to a vector with dim (10,1000)"
   ]
  },
  {
   "cell_type": "code",
   "execution_count": 6,
   "id": "74f2fe6c",
   "metadata": {},
   "outputs": [
    {
     "name": "stdout",
     "output_type": "stream",
     "text": [
      "(15, 10)\n",
      "This is the new shape of the outputs (15, 10)\n",
      " This is how the first elemet of y_train is compared to outputs: \n",
      " This is the outputs: [0. 0. 0. 0. 0. 1. 0. 0. 0. 0.] \n",
      " This is the actual output:  5\n"
     ]
    }
   ],
   "source": [
    "def one_hot(Y):\n",
    "    one_hot_Y = np.zeros((Y.shape[0], Y.max() + 1))\n",
    "    print(one_hot_Y.shape)\n",
    "    \n",
    "    one_hot_Y[np.arange(Y.shape[0]), Y] = 1\n",
    "    one_hot_Y = one_hot_Y\n",
    "    return one_hot_Y\n",
    "\n",
    "\n",
    "outputs = one_hot(outputs)\n",
    "\n",
    "print( \"This is the new shape of the outputs\", outputs.shape)\n",
    "print(\" This is how the first elemet of y_train is compared to outputs: \\n\" ,\"This is the outputs:\", outputs[0],\"\\n\", \"This is the actual output: \" , y_train[0])\n"
   ]
  },
  {
   "cell_type": "markdown",
   "id": "ffac7cf0",
   "metadata": {},
   "source": [
    "## Creat the network using Micrograd"
   ]
  },
  {
   "cell_type": "code",
   "execution_count": 7,
   "id": "1cb6deaf",
   "metadata": {},
   "outputs": [
    {
     "name": "stdout",
     "output_type": "stream",
     "text": [
      "MLP of [Layer of [ReLUNeuron(784), ReLUNeuron(784), ReLUNeuron(784), ReLUNeuron(784), ReLUNeuron(784), ReLUNeuron(784), ReLUNeuron(784), ReLUNeuron(784), ReLUNeuron(784), ReLUNeuron(784), ReLUNeuron(784), ReLUNeuron(784), ReLUNeuron(784), ReLUNeuron(784), ReLUNeuron(784), ReLUNeuron(784)], Layer of [ReLUNeuron(16), ReLUNeuron(16), ReLUNeuron(16), ReLUNeuron(16), ReLUNeuron(16), ReLUNeuron(16), ReLUNeuron(16), ReLUNeuron(16), ReLUNeuron(16), ReLUNeuron(16), ReLUNeuron(16), ReLUNeuron(16), ReLUNeuron(16), ReLUNeuron(16), ReLUNeuron(16), ReLUNeuron(16), ReLUNeuron(16), ReLUNeuron(16), ReLUNeuron(16), ReLUNeuron(16), ReLUNeuron(16), ReLUNeuron(16), ReLUNeuron(16), ReLUNeuron(16), ReLUNeuron(16), ReLUNeuron(16), ReLUNeuron(16), ReLUNeuron(16), ReLUNeuron(16), ReLUNeuron(16), ReLUNeuron(16), ReLUNeuron(16), ReLUNeuron(16), ReLUNeuron(16), ReLUNeuron(16), ReLUNeuron(16)], Layer of [LinearNeuron(36), LinearNeuron(36), LinearNeuron(36), LinearNeuron(36), LinearNeuron(36), LinearNeuron(36), LinearNeuron(36), LinearNeuron(36), LinearNeuron(36), LinearNeuron(36)]]\n",
      "number of parameters 13542\n"
     ]
    }
   ],
   "source": [
    "model = MLP(784, [16, 36, 10]) # 2-layer neural network\n",
    "print(model)\n",
    "print(\"number of parameters\", len(model.parameters()))"
   ]
  },
  {
   "cell_type": "code",
   "execution_count": 48,
   "id": "64596204",
   "metadata": {},
   "outputs": [],
   "source": [
    "y_pred = list(map(model, inputs))"
   ]
  },
  {
   "cell_type": "code",
   "execution_count": 54,
   "id": "9a17e563",
   "metadata": {},
   "outputs": [
    {
     "data": {
      "text/plain": [
       "[[Value(data=4898.372201419689, grad=0),\n",
       "  Value(data=-5743.645522079346, grad=0),\n",
       "  Value(data=-14728.024039587977, grad=0),\n",
       "  Value(data=-4581.6763535593445, grad=0),\n",
       "  Value(data=7119.634018798554, grad=0),\n",
       "  Value(data=4092.0729307708543, grad=0),\n",
       "  Value(data=-1766.557587970925, grad=0),\n",
       "  Value(data=9212.364908135922, grad=0),\n",
       "  Value(data=-1637.2730385046339, grad=0),\n",
       "  Value(data=6842.238189310461, grad=0)],\n",
       " [Value(data=5307.68668671743, grad=0),\n",
       "  Value(data=-11109.795422846082, grad=0),\n",
       "  Value(data=-12483.521659681262, grad=0),\n",
       "  Value(data=-1523.3819588839995, grad=0),\n",
       "  Value(data=6369.370805099062, grad=0),\n",
       "  Value(data=357.83496656249235, grad=0),\n",
       "  Value(data=-1987.9645747695736, grad=0),\n",
       "  Value(data=5271.029608975274, grad=0),\n",
       "  Value(data=-4834.209150154418, grad=0),\n",
       "  Value(data=5350.610402420383, grad=0)],\n",
       " [Value(data=1148.1335043747172, grad=0),\n",
       "  Value(data=-4991.51519300324, grad=0),\n",
       "  Value(data=-4881.811046113655, grad=0),\n",
       "  Value(data=-5098.163864829043, grad=0),\n",
       "  Value(data=4453.413272037677, grad=0),\n",
       "  Value(data=1163.683788479917, grad=0),\n",
       "  Value(data=-1131.0644582968425, grad=0),\n",
       "  Value(data=2292.0204405136396, grad=0),\n",
       "  Value(data=-865.0650282828883, grad=0),\n",
       "  Value(data=4064.1001350629303, grad=0)],\n",
       " [Value(data=2043.2709101684195, grad=0),\n",
       "  Value(data=-6026.4156358655055, grad=0),\n",
       "  Value(data=-4166.384584767234, grad=0),\n",
       "  Value(data=-10347.191985783855, grad=0),\n",
       "  Value(data=3359.834875565457, grad=0),\n",
       "  Value(data=4733.916790528993, grad=0),\n",
       "  Value(data=-2961.461169586167, grad=0),\n",
       "  Value(data=2971.089743113913, grad=0),\n",
       "  Value(data=535.2556121660677, grad=0),\n",
       "  Value(data=5599.273404132365, grad=0)],\n",
       " [Value(data=1588.853851095775, grad=0),\n",
       "  Value(data=-2183.9044740377867, grad=0),\n",
       "  Value(data=-8821.590963597651, grad=0),\n",
       "  Value(data=-10385.016460040088, grad=0),\n",
       "  Value(data=-26.903064423323883, grad=0),\n",
       "  Value(data=8116.761734191, grad=0),\n",
       "  Value(data=-8183.742071833096, grad=0),\n",
       "  Value(data=7913.291571693681, grad=0),\n",
       "  Value(data=2273.138692178621, grad=0),\n",
       "  Value(data=7227.252501139397, grad=0)],\n",
       " [Value(data=1706.8246840888155, grad=0),\n",
       "  Value(data=-10058.679794484871, grad=0),\n",
       "  Value(data=-10000.316416272446, grad=0),\n",
       "  Value(data=-10787.079347793942, grad=0),\n",
       "  Value(data=6241.732434569636, grad=0),\n",
       "  Value(data=2029.0360928629857, grad=0),\n",
       "  Value(data=-3512.1361638540184, grad=0),\n",
       "  Value(data=10147.002111596157, grad=0),\n",
       "  Value(data=908.0644517806054, grad=0),\n",
       "  Value(data=9015.558875595329, grad=0)],\n",
       " [Value(data=4660.730193794461, grad=0),\n",
       "  Value(data=-4104.83789637978, grad=0),\n",
       "  Value(data=-10486.999515873254, grad=0),\n",
       "  Value(data=-2900.793720798939, grad=0),\n",
       "  Value(data=2511.3120485025324, grad=0),\n",
       "  Value(data=3107.4010499217025, grad=0),\n",
       "  Value(data=499.1827025983889, grad=0),\n",
       "  Value(data=6329.276881288402, grad=0),\n",
       "  Value(data=1863.315721921018, grad=0),\n",
       "  Value(data=5751.287539889318, grad=0)],\n",
       " [Value(data=2302.2435691018213, grad=0),\n",
       "  Value(data=-1208.388825093984, grad=0),\n",
       "  Value(data=-13609.286737282264, grad=0),\n",
       "  Value(data=-16354.645421044868, grad=0),\n",
       "  Value(data=3033.924806917913, grad=0),\n",
       "  Value(data=10167.848822992482, grad=0),\n",
       "  Value(data=-1975.5434909701498, grad=0),\n",
       "  Value(data=10348.081056163806, grad=0),\n",
       "  Value(data=3591.9689222753777, grad=0),\n",
       "  Value(data=8767.412799397778, grad=0)],\n",
       " [Value(data=3857.8876900491323, grad=0),\n",
       "  Value(data=-7917.947358539535, grad=0),\n",
       "  Value(data=-3666.1696363608876, grad=0),\n",
       "  Value(data=-154.98002098042957, grad=0),\n",
       "  Value(data=596.6802377552361, grad=0),\n",
       "  Value(data=3788.6851385186696, grad=0),\n",
       "  Value(data=3771.4690629048255, grad=0),\n",
       "  Value(data=-124.41431615489645, grad=0),\n",
       "  Value(data=-347.5143059924165, grad=0),\n",
       "  Value(data=3054.4234926714803, grad=0)],\n",
       " [Value(data=6485.283725442386, grad=0),\n",
       "  Value(data=-12816.07228234256, grad=0),\n",
       "  Value(data=-1238.2932788898097, grad=0),\n",
       "  Value(data=-15691.090568371501, grad=0),\n",
       "  Value(data=-1718.787086338275, grad=0),\n",
       "  Value(data=3335.424446443936, grad=0),\n",
       "  Value(data=-1498.273801787372, grad=0),\n",
       "  Value(data=3617.4914315206393, grad=0),\n",
       "  Value(data=1819.7450223424137, grad=0),\n",
       "  Value(data=9078.091740173082, grad=0)],\n",
       " [Value(data=4594.9897934033215, grad=0),\n",
       "  Value(data=-980.4685438844176, grad=0),\n",
       "  Value(data=-11415.983565935097, grad=0),\n",
       "  Value(data=-11598.15120064092, grad=0),\n",
       "  Value(data=-148.27275723821296, grad=0),\n",
       "  Value(data=9968.422435774664, grad=0),\n",
       "  Value(data=274.58145155758825, grad=0),\n",
       "  Value(data=8964.573199210428, grad=0),\n",
       "  Value(data=1222.4158516815282, grad=0),\n",
       "  Value(data=4642.91292532839, grad=0)],\n",
       " [Value(data=33.67463030911057, grad=0),\n",
       "  Value(data=-5383.243748579822, grad=0),\n",
       "  Value(data=-4500.916264295196, grad=0),\n",
       "  Value(data=-10408.98777918109, grad=0),\n",
       "  Value(data=2858.6143625240475, grad=0),\n",
       "  Value(data=3796.75730319174, grad=0),\n",
       "  Value(data=-1324.8956030478173, grad=0),\n",
       "  Value(data=2055.9041021356356, grad=0),\n",
       "  Value(data=1559.0290925757072, grad=0),\n",
       "  Value(data=7466.42290928309, grad=0)],\n",
       " [Value(data=861.3471472972753, grad=0),\n",
       "  Value(data=-10702.512798321446, grad=0),\n",
       "  Value(data=-9720.818881676129, grad=0),\n",
       "  Value(data=-2567.879735443179, grad=0),\n",
       "  Value(data=3294.596399174829, grad=0),\n",
       "  Value(data=3496.827912289011, grad=0),\n",
       "  Value(data=-362.6774755165342, grad=0),\n",
       "  Value(data=673.1660606532597, grad=0),\n",
       "  Value(data=-2300.435699941032, grad=0),\n",
       "  Value(data=2129.310877673068, grad=0)],\n",
       " [Value(data=4166.622254901019, grad=0),\n",
       "  Value(data=253.21024379459732, grad=0),\n",
       "  Value(data=-9875.030320429592, grad=0),\n",
       "  Value(data=-4271.543804337203, grad=0),\n",
       "  Value(data=-2275.303666817247, grad=0),\n",
       "  Value(data=7630.666046402697, grad=0),\n",
       "  Value(data=-2396.581324684106, grad=0),\n",
       "  Value(data=2933.9954088065997, grad=0),\n",
       "  Value(data=904.6414314242945, grad=0),\n",
       "  Value(data=4476.545017726399, grad=0)],\n",
       " [Value(data=6703.1944407722585, grad=0),\n",
       "  Value(data=-2090.9514554602274, grad=0),\n",
       "  Value(data=-5186.755456594435, grad=0),\n",
       "  Value(data=-6232.9337601403795, grad=0),\n",
       "  Value(data=-2062.5426011137306, grad=0),\n",
       "  Value(data=5474.152966887396, grad=0),\n",
       "  Value(data=-1532.737830121438, grad=0),\n",
       "  Value(data=4748.126782022966, grad=0),\n",
       "  Value(data=680.5182461463246, grad=0),\n",
       "  Value(data=4564.454020541041, grad=0)]]"
      ]
     },
     "execution_count": 54,
     "metadata": {},
     "output_type": "execute_result"
    }
   ],
   "source": [
    "y_pred"
   ]
  },
  {
   "cell_type": "code",
   "execution_count": 51,
   "id": "5d68ff6e",
   "metadata": {},
   "outputs": [],
   "source": [
    "loss = sum((yout - ygt)**2 for ygt, yout in zip(outputs, y_pred))"
   ]
  },
  {
   "cell_type": "code",
   "execution_count": 52,
   "id": "5d7345f3",
   "metadata": {},
   "outputs": [
    {
     "data": {
      "text/plain": [
       "array([Value(data=231201322.06872958, grad=0),\n",
       "       Value(data=717812792.0874319, grad=0),\n",
       "       Value(data=1271450560.0367599, grad=0),\n",
       "       Value(data=1209315866.6852663, grad=0),\n",
       "       Value(data=208634692.852913, grad=0),\n",
       "       Value(data=463346582.359782, grad=0),\n",
       "       Value(data=127111741.14266758, grad=0),\n",
       "       Value(data=568754742.0796875, grad=0),\n",
       "       Value(data=63381599.94168131, grad=0),\n",
       "       Value(data=581210914.9140416, grad=0)], dtype=object)"
      ]
     },
     "execution_count": 52,
     "metadata": {},
     "output_type": "execute_result"
    }
   ],
   "source": [
    "loss"
   ]
  },
  {
   "cell_type": "code",
   "execution_count": 55,
   "id": "0ccc0f91",
   "metadata": {},
   "outputs": [],
   "source": [
    "for thing in loss:\n",
    "    thing.backward()"
   ]
  },
  {
   "cell_type": "code",
   "execution_count": 58,
   "id": "333f1b64",
   "metadata": {},
   "outputs": [
    {
     "data": {
      "text/plain": [
       "Value(data=0.5501466684718259, grad=-64892715500304.11)"
      ]
     },
     "execution_count": 58,
     "metadata": {},
     "output_type": "execute_result"
    }
   ],
   "source": [
    "model.layers[1].neurons[4].w[1]"
   ]
  },
  {
   "cell_type": "code",
   "execution_count": 11,
   "id": "7d22f746",
   "metadata": {},
   "outputs": [
    {
     "ename": "KeyboardInterrupt",
     "evalue": "",
     "output_type": "error",
     "traceback": [
      "\u001b[1;31m---------------------------------------------------------------------------\u001b[0m",
      "\u001b[1;31mKeyboardInterrupt\u001b[0m                         Traceback (most recent call last)",
      "Input \u001b[1;32mIn [11]\u001b[0m, in \u001b[0;36m<cell line: 1>\u001b[1;34m()\u001b[0m\n\u001b[0;32m      1\u001b[0m \u001b[38;5;28;01mfor\u001b[39;00m k \u001b[38;5;129;01min\u001b[39;00m \u001b[38;5;28mrange\u001b[39m(\u001b[38;5;241m100\u001b[39m):\n\u001b[1;32m----> 2\u001b[0m         ypred \u001b[38;5;241m=\u001b[39m \u001b[38;5;28;43mlist\u001b[39;49m\u001b[43m(\u001b[49m\u001b[38;5;28;43mmap\u001b[39;49m\u001b[43m(\u001b[49m\u001b[43mmodel\u001b[49m\u001b[43m,\u001b[49m\u001b[43m \u001b[49m\u001b[43minputs\u001b[49m\u001b[43m)\u001b[49m\u001b[43m)\u001b[49m\n\u001b[0;32m      4\u001b[0m         loss \u001b[38;5;241m=\u001b[39m \u001b[38;5;28msum\u001b[39m((yout \u001b[38;5;241m-\u001b[39m ygt)\u001b[38;5;241m*\u001b[39m\u001b[38;5;241m*\u001b[39m\u001b[38;5;241m2\u001b[39m \u001b[38;5;28;01mfor\u001b[39;00m ygt, yout \u001b[38;5;129;01min\u001b[39;00m \u001b[38;5;28mzip\u001b[39m(outputs, ypred))\n\u001b[0;32m      7\u001b[0m         \u001b[38;5;28;01mfor\u001b[39;00m p \u001b[38;5;129;01min\u001b[39;00m model\u001b[38;5;241m.\u001b[39mparameters():\n",
      "File \u001b[1;32m~\\anaconda3\\lib\\site-packages\\micrograd\\nn.py:53\u001b[0m, in \u001b[0;36mMLP.__call__\u001b[1;34m(self, x)\u001b[0m\n\u001b[0;32m     51\u001b[0m \u001b[38;5;28;01mdef\u001b[39;00m \u001b[38;5;21m__call__\u001b[39m(\u001b[38;5;28mself\u001b[39m, x):\n\u001b[0;32m     52\u001b[0m     \u001b[38;5;28;01mfor\u001b[39;00m layer \u001b[38;5;129;01min\u001b[39;00m \u001b[38;5;28mself\u001b[39m\u001b[38;5;241m.\u001b[39mlayers:\n\u001b[1;32m---> 53\u001b[0m         x \u001b[38;5;241m=\u001b[39m \u001b[43mlayer\u001b[49m\u001b[43m(\u001b[49m\u001b[43mx\u001b[49m\u001b[43m)\u001b[49m\n\u001b[0;32m     54\u001b[0m     \u001b[38;5;28;01mreturn\u001b[39;00m x\n",
      "File \u001b[1;32m~\\anaconda3\\lib\\site-packages\\micrograd\\nn.py:36\u001b[0m, in \u001b[0;36mLayer.__call__\u001b[1;34m(self, x)\u001b[0m\n\u001b[0;32m     35\u001b[0m \u001b[38;5;28;01mdef\u001b[39;00m \u001b[38;5;21m__call__\u001b[39m(\u001b[38;5;28mself\u001b[39m, x):\n\u001b[1;32m---> 36\u001b[0m     out \u001b[38;5;241m=\u001b[39m [n(x) \u001b[38;5;28;01mfor\u001b[39;00m n \u001b[38;5;129;01min\u001b[39;00m \u001b[38;5;28mself\u001b[39m\u001b[38;5;241m.\u001b[39mneurons]\n\u001b[0;32m     37\u001b[0m     \u001b[38;5;28;01mreturn\u001b[39;00m out[\u001b[38;5;241m0\u001b[39m] \u001b[38;5;28;01mif\u001b[39;00m \u001b[38;5;28mlen\u001b[39m(out) \u001b[38;5;241m==\u001b[39m \u001b[38;5;241m1\u001b[39m \u001b[38;5;28;01melse\u001b[39;00m out\n",
      "File \u001b[1;32m~\\anaconda3\\lib\\site-packages\\micrograd\\nn.py:36\u001b[0m, in \u001b[0;36m<listcomp>\u001b[1;34m(.0)\u001b[0m\n\u001b[0;32m     35\u001b[0m \u001b[38;5;28;01mdef\u001b[39;00m \u001b[38;5;21m__call__\u001b[39m(\u001b[38;5;28mself\u001b[39m, x):\n\u001b[1;32m---> 36\u001b[0m     out \u001b[38;5;241m=\u001b[39m [\u001b[43mn\u001b[49m\u001b[43m(\u001b[49m\u001b[43mx\u001b[49m\u001b[43m)\u001b[49m \u001b[38;5;28;01mfor\u001b[39;00m n \u001b[38;5;129;01min\u001b[39;00m \u001b[38;5;28mself\u001b[39m\u001b[38;5;241m.\u001b[39mneurons]\n\u001b[0;32m     37\u001b[0m     \u001b[38;5;28;01mreturn\u001b[39;00m out[\u001b[38;5;241m0\u001b[39m] \u001b[38;5;28;01mif\u001b[39;00m \u001b[38;5;28mlen\u001b[39m(out) \u001b[38;5;241m==\u001b[39m \u001b[38;5;241m1\u001b[39m \u001b[38;5;28;01melse\u001b[39;00m out\n",
      "File \u001b[1;32m~\\anaconda3\\lib\\site-packages\\micrograd\\nn.py:21\u001b[0m, in \u001b[0;36mNeuron.__call__\u001b[1;34m(self, x)\u001b[0m\n\u001b[0;32m     20\u001b[0m \u001b[38;5;28;01mdef\u001b[39;00m \u001b[38;5;21m__call__\u001b[39m(\u001b[38;5;28mself\u001b[39m, x):\n\u001b[1;32m---> 21\u001b[0m     act \u001b[38;5;241m=\u001b[39m \u001b[38;5;28;43msum\u001b[39;49m\u001b[43m(\u001b[49m\u001b[43m(\u001b[49m\u001b[43mwi\u001b[49m\u001b[38;5;241;43m*\u001b[39;49m\u001b[43mxi\u001b[49m\u001b[43m \u001b[49m\u001b[38;5;28;43;01mfor\u001b[39;49;00m\u001b[43m \u001b[49m\u001b[43mwi\u001b[49m\u001b[43m,\u001b[49m\u001b[43mxi\u001b[49m\u001b[43m \u001b[49m\u001b[38;5;129;43;01min\u001b[39;49;00m\u001b[43m \u001b[49m\u001b[38;5;28;43mzip\u001b[39;49m\u001b[43m(\u001b[49m\u001b[38;5;28;43mself\u001b[39;49m\u001b[38;5;241;43m.\u001b[39;49m\u001b[43mw\u001b[49m\u001b[43m,\u001b[49m\u001b[43m \u001b[49m\u001b[43mx\u001b[49m\u001b[43m)\u001b[49m\u001b[43m)\u001b[49m\u001b[43m,\u001b[49m\u001b[43m \u001b[49m\u001b[38;5;28;43mself\u001b[39;49m\u001b[38;5;241;43m.\u001b[39;49m\u001b[43mb\u001b[49m\u001b[43m)\u001b[49m\n\u001b[0;32m     22\u001b[0m     \u001b[38;5;28;01mreturn\u001b[39;00m act\u001b[38;5;241m.\u001b[39mrelu() \u001b[38;5;28;01mif\u001b[39;00m \u001b[38;5;28mself\u001b[39m\u001b[38;5;241m.\u001b[39mnonlin \u001b[38;5;28;01melse\u001b[39;00m act\n",
      "File \u001b[1;32m~\\anaconda3\\lib\\site-packages\\micrograd\\nn.py:21\u001b[0m, in \u001b[0;36m<genexpr>\u001b[1;34m(.0)\u001b[0m\n\u001b[0;32m     20\u001b[0m \u001b[38;5;28;01mdef\u001b[39;00m \u001b[38;5;21m__call__\u001b[39m(\u001b[38;5;28mself\u001b[39m, x):\n\u001b[1;32m---> 21\u001b[0m     act \u001b[38;5;241m=\u001b[39m \u001b[38;5;28msum\u001b[39m((\u001b[43mwi\u001b[49m\u001b[38;5;241;43m*\u001b[39;49m\u001b[43mxi\u001b[49m \u001b[38;5;28;01mfor\u001b[39;00m wi,xi \u001b[38;5;129;01min\u001b[39;00m \u001b[38;5;28mzip\u001b[39m(\u001b[38;5;28mself\u001b[39m\u001b[38;5;241m.\u001b[39mw, x)), \u001b[38;5;28mself\u001b[39m\u001b[38;5;241m.\u001b[39mb)\n\u001b[0;32m     22\u001b[0m     \u001b[38;5;28;01mreturn\u001b[39;00m act\u001b[38;5;241m.\u001b[39mrelu() \u001b[38;5;28;01mif\u001b[39;00m \u001b[38;5;28mself\u001b[39m\u001b[38;5;241m.\u001b[39mnonlin \u001b[38;5;28;01melse\u001b[39;00m act\n",
      "File \u001b[1;32m~\\anaconda3\\lib\\site-packages\\micrograd\\engine.py:25\u001b[0m, in \u001b[0;36mValue.__mul__\u001b[1;34m(self, other)\u001b[0m\n\u001b[0;32m     24\u001b[0m \u001b[38;5;28;01mdef\u001b[39;00m \u001b[38;5;21m__mul__\u001b[39m(\u001b[38;5;28mself\u001b[39m, other):\n\u001b[1;32m---> 25\u001b[0m     other \u001b[38;5;241m=\u001b[39m other \u001b[38;5;28;01mif\u001b[39;00m \u001b[38;5;28misinstance\u001b[39m(other, Value) \u001b[38;5;28;01melse\u001b[39;00m \u001b[43mValue\u001b[49m\u001b[43m(\u001b[49m\u001b[43mother\u001b[49m\u001b[43m)\u001b[49m\n\u001b[0;32m     26\u001b[0m     out \u001b[38;5;241m=\u001b[39m Value(\u001b[38;5;28mself\u001b[39m\u001b[38;5;241m.\u001b[39mdata \u001b[38;5;241m*\u001b[39m other\u001b[38;5;241m.\u001b[39mdata, (\u001b[38;5;28mself\u001b[39m, other), \u001b[38;5;124m'\u001b[39m\u001b[38;5;124m*\u001b[39m\u001b[38;5;124m'\u001b[39m)\n\u001b[0;32m     28\u001b[0m     \u001b[38;5;28;01mdef\u001b[39;00m \u001b[38;5;21m_backward\u001b[39m():\n",
      "File \u001b[1;32m~\\anaconda3\\lib\\site-packages\\micrograd\\engine.py:10\u001b[0m, in \u001b[0;36mValue.__init__\u001b[1;34m(self, data, _children, _op)\u001b[0m\n\u001b[0;32m      8\u001b[0m \u001b[38;5;66;03m# internal variables used for autograd graph construction\u001b[39;00m\n\u001b[0;32m      9\u001b[0m \u001b[38;5;28mself\u001b[39m\u001b[38;5;241m.\u001b[39m_backward \u001b[38;5;241m=\u001b[39m \u001b[38;5;28;01mlambda\u001b[39;00m: \u001b[38;5;28;01mNone\u001b[39;00m\n\u001b[1;32m---> 10\u001b[0m \u001b[38;5;28mself\u001b[39m\u001b[38;5;241m.\u001b[39m_prev \u001b[38;5;241m=\u001b[39m \u001b[38;5;28mset\u001b[39m(_children)\n\u001b[0;32m     11\u001b[0m \u001b[38;5;28mself\u001b[39m\u001b[38;5;241m.\u001b[39m_op \u001b[38;5;241m=\u001b[39m _op\n",
      "\u001b[1;31mKeyboardInterrupt\u001b[0m: "
     ]
    }
   ],
   "source": [
    "for k in range(100):\n",
    "        ypred = list(map(model, inputs))\n",
    "        \n",
    "        loss = sum((yout - ygt)**2 for ygt, yout in zip(outputs, ypred))\n",
    "\n",
    "\n",
    "        for p in model.parameters():\n",
    "            p.grad = 0.0\n",
    "\n",
    "        for thing in loss:\n",
    "            thing.backward()\n",
    "\n",
    "        for p in model.parameters():\n",
    "            p.data += -0.000001 *p.grad\n",
    "\n",
    "        print(k, loss)"
   ]
  },
  {
   "cell_type": "code",
   "execution_count": null,
   "id": "89637419",
   "metadata": {},
   "outputs": [],
   "source": []
  },
  {
   "cell_type": "code",
   "execution_count": null,
   "id": "5709b1be",
   "metadata": {},
   "outputs": [],
   "source": []
  }
 ],
 "metadata": {
  "kernelspec": {
   "display_name": "Python 3 (ipykernel)",
   "language": "python",
   "name": "python3"
  },
  "language_info": {
   "codemirror_mode": {
    "name": "ipython",
    "version": 3
   },
   "file_extension": ".py",
   "mimetype": "text/x-python",
   "name": "python",
   "nbconvert_exporter": "python",
   "pygments_lexer": "ipython3",
   "version": "3.9.12"
  }
 },
 "nbformat": 4,
 "nbformat_minor": 5
}
